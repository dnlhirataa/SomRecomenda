{
  "nbformat": 4,
  "nbformat_minor": 0,
  "metadata": {
    "colab": {
      "provenance": []
    },
    "kernelspec": {
      "name": "python3",
      "display_name": "Python 3"
    },
    "language_info": {
      "name": "python"
    }
  },
  "cells": [
    {
      "cell_type": "code",
      "execution_count": 2,
      "metadata": {
        "colab": {
          "base_uri": "https://localhost:8080/"
        },
        "id": "Rka1vJ18gYg_",
        "outputId": "2361c9e5-f5de-4070-a7f7-3f70f1ac5552"
      },
      "outputs": [
        {
          "output_type": "stream",
          "name": "stdout",
          "text": [
            "Requirement already satisfied: google-genai in /usr/local/lib/python3.11/dist-packages (1.15.0)\n",
            "Requirement already satisfied: anyio<5.0.0,>=4.8.0 in /usr/local/lib/python3.11/dist-packages (from google-genai) (4.9.0)\n",
            "Requirement already satisfied: google-auth<3.0.0,>=2.14.1 in /usr/local/lib/python3.11/dist-packages (from google-genai) (2.38.0)\n",
            "Requirement already satisfied: httpx<1.0.0,>=0.28.1 in /usr/local/lib/python3.11/dist-packages (from google-genai) (0.28.1)\n",
            "Requirement already satisfied: pydantic<3.0.0,>=2.0.0 in /usr/local/lib/python3.11/dist-packages (from google-genai) (2.11.4)\n",
            "Requirement already satisfied: requests<3.0.0,>=2.28.1 in /usr/local/lib/python3.11/dist-packages (from google-genai) (2.32.3)\n",
            "Requirement already satisfied: websockets<15.1.0,>=13.0.0 in /usr/local/lib/python3.11/dist-packages (from google-genai) (15.0.1)\n",
            "Requirement already satisfied: typing-extensions<5.0.0,>=4.11.0 in /usr/local/lib/python3.11/dist-packages (from google-genai) (4.13.2)\n",
            "Requirement already satisfied: idna>=2.8 in /usr/local/lib/python3.11/dist-packages (from anyio<5.0.0,>=4.8.0->google-genai) (3.10)\n",
            "Requirement already satisfied: sniffio>=1.1 in /usr/local/lib/python3.11/dist-packages (from anyio<5.0.0,>=4.8.0->google-genai) (1.3.1)\n",
            "Requirement already satisfied: cachetools<6.0,>=2.0.0 in /usr/local/lib/python3.11/dist-packages (from google-auth<3.0.0,>=2.14.1->google-genai) (5.5.2)\n",
            "Requirement already satisfied: pyasn1-modules>=0.2.1 in /usr/local/lib/python3.11/dist-packages (from google-auth<3.0.0,>=2.14.1->google-genai) (0.4.2)\n",
            "Requirement already satisfied: rsa<5,>=3.1.4 in /usr/local/lib/python3.11/dist-packages (from google-auth<3.0.0,>=2.14.1->google-genai) (4.9.1)\n",
            "Requirement already satisfied: certifi in /usr/local/lib/python3.11/dist-packages (from httpx<1.0.0,>=0.28.1->google-genai) (2025.4.26)\n",
            "Requirement already satisfied: httpcore==1.* in /usr/local/lib/python3.11/dist-packages (from httpx<1.0.0,>=0.28.1->google-genai) (1.0.9)\n",
            "Requirement already satisfied: h11>=0.16 in /usr/local/lib/python3.11/dist-packages (from httpcore==1.*->httpx<1.0.0,>=0.28.1->google-genai) (0.16.0)\n",
            "Requirement already satisfied: annotated-types>=0.6.0 in /usr/local/lib/python3.11/dist-packages (from pydantic<3.0.0,>=2.0.0->google-genai) (0.7.0)\n",
            "Requirement already satisfied: pydantic-core==2.33.2 in /usr/local/lib/python3.11/dist-packages (from pydantic<3.0.0,>=2.0.0->google-genai) (2.33.2)\n",
            "Requirement already satisfied: typing-inspection>=0.4.0 in /usr/local/lib/python3.11/dist-packages (from pydantic<3.0.0,>=2.0.0->google-genai) (0.4.0)\n",
            "Requirement already satisfied: charset-normalizer<4,>=2 in /usr/local/lib/python3.11/dist-packages (from requests<3.0.0,>=2.28.1->google-genai) (3.4.2)\n",
            "Requirement already satisfied: urllib3<3,>=1.21.1 in /usr/local/lib/python3.11/dist-packages (from requests<3.0.0,>=2.28.1->google-genai) (2.4.0)\n",
            "Requirement already satisfied: pyasn1<0.7.0,>=0.6.1 in /usr/local/lib/python3.11/dist-packages (from pyasn1-modules>=0.2.1->google-auth<3.0.0,>=2.14.1->google-genai) (0.6.1)\n"
          ]
        }
      ],
      "source": [
        "!pip install google-genai"
      ]
    },
    {
      "cell_type": "code",
      "source": [
        "import os\n",
        "import google.generativeai as genai\n",
        "\n",
        "os.environ['GOOGLE_API_KEY'] =userdata.get('GOOGLE_API_KEY')"
      ],
      "metadata": {
        "id": "9lr3YMiDgiHC"
      },
      "execution_count": 5,
      "outputs": []
    },
    {
      "cell_type": "code",
      "source": [
        "genai.configure(api_key=os.environ['GOOGLE_API_KEY'])\n",
        "\n",
        "model = genai.GenerativeModel('gemini-2.0-flash')\n",
        "\n",
        "print(\"Biblioteca Gemini configurada usando a variável de ambiente!\")"
      ],
      "metadata": {
        "colab": {
          "base_uri": "https://localhost:8080/"
        },
        "id": "zEK9omnDgp2N",
        "outputId": "15d6f851-9b30-4717-caf9-ad143b2ce226"
      },
      "execution_count": 13,
      "outputs": [
        {
          "output_type": "stream",
          "name": "stdout",
          "text": [
            "Biblioteca Gemini configurada usando a variável de ambiente!\n"
          ]
        }
      ]
    },
    {
      "cell_type": "code",
      "source": [
        "def analisar_vt_e_sugerir_musica(descricao_vt):\n",
        "    prompt = f\"\"\"Analise a seguinte descrição de um vídeo (VT) e identifique o sentimento predominante,\n",
        "o tom geral, o estilo e tente associar com arquétipos ou temas universais presentes.\n",
        "\n",
        "Com base nessa análise, sugira alguns artistas ou músicas específicas que poderiam ser adequados para este VT.\n",
        "Justifique brevemente cada sugestão com base na sua análise.\n",
        "\n",
        "Descrição do VT:\n",
        "{descricao_vt}\n",
        "\"\"\"\n",
        "    response = model.generate_content(prompt)\n",
        "    return response.text"
      ],
      "metadata": {
        "id": "u1RRv3AkiVji"
      },
      "execution_count": 14,
      "outputs": []
    },
    {
      "cell_type": "code",
      "source": [
        "descricao_exemplo = \"Um vídeo curto e divertido mostrando um grupo de amigos rindo e se divertindo em uma festa na praia ao pôr do sol. A música deve ser animada, alegre e ter uma vibe relaxante de verão.\"\n",
        "\n",
        "resultado_gemini = analisar_vt_e_sugerir_musica(descricao_exemplo)\n",
        "print(resultado_gemini)"
      ],
      "metadata": {
        "colab": {
          "base_uri": "https://localhost:8080/",
          "height": 808
        },
        "id": "sRnGl8U8jUuY",
        "outputId": "1ee66ecc-3e9c-47fc-f260-7a72491c82c6"
      },
      "execution_count": 15,
      "outputs": [
        {
          "output_type": "stream",
          "name": "stdout",
          "text": [
            "## Análise da Descrição do VT:\n",
            "\n",
            "* **Sentimento Predominante:** Alegria, felicidade, camaradagem.\n",
            "* **Tom Geral:** Leve, divertido, despreocupado, relaxante.\n",
            "* **Estilo:** Descontraído, informal, jovial, com foco na amizade e no aproveitamento do momento.\n",
            "* **Arquétipos/Temas Universais:**\n",
            "    * **O Amante:** Celebrando a beleza e o prazer dos sentidos (o pôr do sol, a praia, a companhia dos amigos).\n",
            "    * **O Inocente:** Desfrutando da vida sem grandes preocupações, com pureza e alegria.\n",
            "    * **A Busca pela Felicidade:** A simples busca por momentos de alegria e conexão humana.\n",
            "    * **Celebração da Amizade:** A importância dos laços de amizade e o prazer de compartilhar momentos especiais.\n",
            "\n",
            "## Sugestões de Artistas e Músicas:\n",
            "\n",
            "Considerando a análise acima, as músicas selecionadas devem evocar sentimentos de alegria, liberdade, relaxamento e camaradagem, com uma vibe de verão e um ritmo animado.\n",
            "\n",
            "**1. Artista: Jack Johnson**\n",
            "\n",
            "* **Música Sugerida:** \"Better Together\" ou \"Banana Pancakes\"\n",
            "* **Justificativa:** Jack Johnson é conhecido por suas músicas relaxantes e otimistas, com letras simples e melodias agradáveis. Suas canções evocam uma atmosfera de praia, sol e bons momentos, perfeitamente alinhadas com o tema do VT. \"Better Together\" fala sobre a beleza de estar com quem amamos, enquanto \"Banana Pancakes\" tem um ritmo mais lento e relaxante, ideal para o pôr do sol.\n",
            "\n",
            "**2. Artista: Jason Mraz**\n",
            "\n",
            "* **Música Sugerida:** \"I'm Yours\" ou \"Lucky\" (feat. Colbie Caillat)\n",
            "* **Justificativa:** Jason Mraz tem um estilo musical positivo e contagiante, com letras que celebram o amor, a amizade e a alegria de viver. \"I'm Yours\" é um hino à positividade e ao otimismo, enquanto \"Lucky\" é uma canção adorável sobre a sorte de ter um amigo verdadeiro, ambos ressoando com a atmosfera do VT.\n",
            "\n",
            "**3. Artista: Pharrell Williams**\n",
            "\n",
            "* **Música Sugerida:** \"Happy\"\n",
            "* **Justificativa:** Apesar de ser uma escolha mais óbvia, \"Happy\" é um hit incontestável quando se trata de transmitir felicidade e energia positiva. Seu ritmo contagiante e letra simples fazem com que seja perfeita para um vídeo mostrando amigos se divertindo.\n",
            "\n",
            "**4. Artista: Ofenbach**\n",
            "\n",
            "* **Música Sugerida:** \"Be Mine\" ou \"Katchi\"\n",
            "* **Justificativa:** Ofenbach é um duo de DJs franceses que produzem músicas com uma vibe alegre, animada e um toque de nostalgia. \"Be Mine\" e \"Katchi\" possuem batidas contagiantes e melodias envolventes, ideais para criar uma atmosfera de festa e celebração.\n",
            "\n",
            "**5. Artista: Kygo**\n",
            "\n",
            "* **Música Sugerida:** \"Firestone\" (feat. Conrad Sewell) ou \"Stole the Show\" (feat. Parson James)\n",
            "* **Justificativa:** Kygo é conhecido por suas músicas com batidas tropicais e vocais emotivos. \"Firestone\" e \"Stole the Show\" são exemplos de como ele consegue criar atmosferas relaxantes e ao mesmo tempo energéticas, perfeitas para um pôr do sol na praia com amigos.\n",
            "\n",
            "Essas são apenas algumas sugestões, e a escolha final dependerá do gosto pessoal e da estética visual específica do vídeo. No entanto, as músicas escolhidas seguem a mesma linha de sentimentos, tons e estilos identificados na análise da descrição do VT.\n",
            "\n"
          ]
        }
      ]
    },
    {
      "cell_type": "code",
      "source": [
        "!pip install spotipy"
      ],
      "metadata": {
        "colab": {
          "base_uri": "https://localhost:8080/"
        },
        "id": "y_VR1pt0jWWQ",
        "outputId": "05ab0635-abee-4e86-fec4-f04e26c22ae3"
      },
      "execution_count": 17,
      "outputs": [
        {
          "output_type": "stream",
          "name": "stdout",
          "text": [
            "Requirement already satisfied: spotipy in /usr/local/lib/python3.11/dist-packages (2.25.1)\n",
            "Requirement already satisfied: redis>=3.5.3 in /usr/local/lib/python3.11/dist-packages (from spotipy) (6.1.0)\n",
            "Requirement already satisfied: requests>=2.25.0 in /usr/local/lib/python3.11/dist-packages (from spotipy) (2.32.3)\n",
            "Requirement already satisfied: urllib3>=1.26.0 in /usr/local/lib/python3.11/dist-packages (from spotipy) (2.4.0)\n",
            "Requirement already satisfied: charset-normalizer<4,>=2 in /usr/local/lib/python3.11/dist-packages (from requests>=2.25.0->spotipy) (3.4.2)\n",
            "Requirement already satisfied: idna<4,>=2.5 in /usr/local/lib/python3.11/dist-packages (from requests>=2.25.0->spotipy) (3.10)\n",
            "Requirement already satisfied: certifi>=2017.4.17 in /usr/local/lib/python3.11/dist-packages (from requests>=2.25.0->spotipy) (2025.4.26)\n"
          ]
        }
      ]
    },
    {
      "cell_type": "code",
      "source": [
        "import spotipy\n",
        "from spotipy.oauth2 import SpotifyClientCredentials\n",
        "from google.colab import userdata\n",
        "\n",
        "# Acesse as credenciais do Spotify dos segredos do Colab\n",
        "SPOTIPY_CLIENT_ID = userdata.get('SPOTIPY_CLIENT_ID')\n",
        "SPOTIPY_CLIENT_SECRET = userdata.get('SPOTIPY_CLIENT_SECRET')\n",
        "\n",
        "client_credentials_manager = SpotifyClientCredentials(client_id=SPOTIPY_CLIENT_ID,\n",
        "                                                       client_secret=SPOTIPY_CLIENT_SECRET)\n",
        "sp = spotipy.Spotify(client_credentials_manager=client_credentials_manager)\n",
        "\n",
        "print(\"API do Spotify autenticada com sucesso!\")"
      ],
      "metadata": {
        "colab": {
          "base_uri": "https://localhost:8080/"
        },
        "id": "FfdHV9XEnNpw",
        "outputId": "a180bb96-ba60-412f-8ae7-ee5ad6c896cd"
      },
      "execution_count": 18,
      "outputs": [
        {
          "output_type": "stream",
          "name": "stdout",
          "text": [
            "API do Spotify autenticada com sucesso!\n"
          ]
        }
      ]
    },
    {
      "cell_type": "code",
      "source": [
        "def analisar_vt_e_sugerir_musica_com_spotify_e_playlists(descricao_vt):\n",
        "    \"\"\"\n",
        "    Analisa a descrição de um VT usando o Gemini e sugere artistas/músicas e playlists\n",
        "    usando também a API do Spotify.\n",
        "\n",
        "    Args:\n",
        "        descricao_vt: Uma string contendo a descrição textual detalhada do VT.\n",
        "\n",
        "    Returns:\n",
        "        Um dicionário contendo as sugestões de artistas/músicas e playlists\n",
        "        geradas pelo Gemini e pela API do Spotify.\n",
        "    \"\"\"\n",
        "    prompt_gemini_generos_simples = f\"\"\"Analise a seguinte descrição de um vídeo (VT) e liste até 3 gêneros musicais amplos que seriam adequados para a trilha sonora.\n",
        "Liste apenas o nome dos gêneros, um por linha.\n",
        "\n",
        "Descrição do VT:\n",
        "{descricao_vt}\n",
        "\"\"\"\n",
        "\n",
        "    generos_sugeridos = []\n",
        "\n",
        "    try:\n",
        "        response_gemini_generos = model.generate_content(prompt_gemini_generos_simples)\n",
        "        # Limpando os gêneros removendo caracteres extras\n",
        "        generos_sugeridos = [genero.strip().lstrip('*').strip() for genero in response_gemini_generos.text.split('\\n') if genero.strip()]\n",
        "    except Exception as e:\n",
        "        print(f\"Erro ao obter gêneros do Gemini: {e}\")\n",
        "\n",
        "    sugestoes_spotify_musicas = []\n",
        "    if sp and generos_sugeridos:\n",
        "        for genero in generos_sugeridos:\n",
        "            try:\n",
        "                # Buscar por músicas (mantendo a lógica existente)\n",
        "                results_tracks = sp.search(q=f'genre:{genero}', type='track', limit=3)\n",
        "                if results_tracks is not None and 'tracks' in results_tracks and 'items' in results_tracks['tracks']:\n",
        "                    for track in results_tracks['tracks']['items']:\n",
        "                        sugestoes_spotify_musicas.append({\n",
        "                            'artista': track['artists'][0]['name'],\n",
        "                            'titulo': track['name'],\n",
        "                            'album': track['album']['name'],\n",
        "                            'url': track['external_urls']['spotify']\n",
        "                        })\n",
        "                else:\n",
        "                    print(f\"Aviso ao buscar músicas para o gênero '{genero}': Nenhum resultado válido retornado.\")\n",
        "            except Exception as e:\n",
        "                print(f\"Erro ao buscar músicas no Spotify para o gênero '{genero}': {e}\")\n",
        "\n",
        "    # Chamar a função para buscar playlists\n",
        "    sugestoes_spotify_playlists = buscar_playlists_spotify(generos_sugeridos, sp)\n",
        "\n",
        "    return {\n",
        "        'generos_sugeridos_gemini': generos_sugeridos,\n",
        "        'sugestoes_spotify_musicas': sugestoes_spotify_musicas,\n",
        "        'sugestoes_spotify_playlists': sugestoes_spotify_playlists\n",
        "    }\n",
        "\n",
        "print(\"Função principal de análise e sugestão (limpeza de gêneros) criada!\")"
      ],
      "metadata": {
        "colab": {
          "base_uri": "https://localhost:8080/"
        },
        "id": "AcRXUn79n1xz",
        "outputId": "f53e2d7b-2e4b-40d2-bbed-dbbd5323cb4a"
      },
      "execution_count": 69,
      "outputs": [
        {
          "output_type": "stream",
          "name": "stdout",
          "text": [
            "Função principal de análise e sugestão (limpeza de gêneros) criada!\n"
          ]
        }
      ]
    },
    {
      "cell_type": "code",
      "source": [
        "def buscar_playlists_spotify(generos, sp_client):\n",
        "    \"\"\"\n",
        "    Busca playlists no Spotify com base em uma lista de gêneros.\n",
        "\n",
        "    Args:\n",
        "        generos: Uma lista de strings contendo os gêneros musicais.\n",
        "        sp_client: O objeto cliente da API do Spotify (spotipy.Spotify).\n",
        "\n",
        "    Returns:\n",
        "        Uma lista de dicionários, onde cada dicionário representa uma playlist\n",
        "        encontrada (nome, proprietário, url). Retorna uma lista vazia em caso de erro\n",
        "        ou se nenhum resultado for encontrado.\n",
        "    \"\"\"\n",
        "    sugestoes_spotify_playlists = []\n",
        "    if sp_client and generos:\n",
        "        for genero in generos:\n",
        "            try:\n",
        "                results_playlists = sp_client.search(q=f'genre:{genero}', type='playlist', limit=2)\n",
        "                if results_playlists is not None and 'playlists' in results_playlists and isinstance(results_playlists['playlists'], dict) and 'items' in results_playlists['playlists']:\n",
        "                    try:\n",
        "                        for playlist in results_playlists['playlists']['items']:\n",
        "                            sugestoes_spotify_playlists.append({\n",
        "                                'nome': playlist['name'],\n",
        "                                'proprietario': playlist['owner']['display_name'],\n",
        "                                'url': playlist['external_urls']['spotify']\n",
        "                            })\n",
        "                    except TypeError:\n",
        "                        print(f\"Aviso: Erro ao iterar sobre os itens de playlist para o gênero '{genero}'. A resposta 'items' pode ser None.\")\n",
        "                elif results_playlists is not None and 'playlists' in results_playlists:\n",
        "                    print(f\"Aviso: Estrutura de playlist inesperada para o gênero '{genero}'. Chaves: {results_playlists['playlists'].keys()}\")\n",
        "                elif results_playlists is not None:\n",
        "                    print(f\"Aviso: Resposta de playlist inesperada para o gênero '{genero}'. Chaves: {results_playlists.keys()}\")\n",
        "                else:\n",
        "                    print(f\"Aviso: Nenhum resultado de playlist válido retornado para o gênero '{genero}'.\")\n",
        "\n",
        "            except Exception as e:\n",
        "                print(f\"Erro ao buscar playlists no Spotify para o gênero '{genero}': {e}\")\n",
        "    return sugestoes_spotify_playlists\n",
        "\n",
        "print(\"Função para buscar playlists no Spotify criada!\")"
      ],
      "metadata": {
        "colab": {
          "base_uri": "https://localhost:8080/"
        },
        "id": "0kk8iqh6oNhw",
        "outputId": "d8ef30db-63e3-40d0-ee69-652eca876857"
      },
      "execution_count": 80,
      "outputs": [
        {
          "output_type": "stream",
          "name": "stdout",
          "text": [
            "Função para buscar playlists no Spotify criada!\n"
          ]
        }
      ]
    },
    {
      "cell_type": "code",
      "source": [
        "descricao_exemplo = \"Um vídeo curto e divertido mostrando um grupo de amigos rindo e se divertindo em uma festa na praia ao pôr do sol. A música deve ser animada, alegre e ter uma vibe relaxante de verão.\"\n",
        "resultado_completo_com_playlists = analisar_vt_e_sugerir_musica_com_spotify_e_playlists(descricao_exemplo)\n",
        "\n",
        "print(\"Gêneros sugeridos pelo Gemini:\", resultado_completo_com_playlists['generos_sugeridos_gemini'])\n",
        "print(\"Sugestões de playlists do Spotify:\", resultado_completo_com_playlists['sugestoes_spotify_playlists'])\n",
        "print(formatar_resultado_com_playlists(resultado_completo_com_playlists))"
      ],
      "metadata": {
        "id": "dSRWE0IXo9O_"
      },
      "execution_count": null,
      "outputs": []
    },
    {
      "cell_type": "code",
      "source": [
        "def buscar_mais_musicas(genero, sp_client, limit=5):\n",
        "    \"\"\"Busca mais músicas no Spotify para um gênero específico.\"\"\"\n",
        "    sugestoes_adicionais = []\n",
        "    if sp_client and genero:\n",
        "        try:\n",
        "            results_tracks = sp_client.search(q=f'genre:{genero}', type='track', limit=limit)\n",
        "            if results_tracks is not None and 'tracks' in results_tracks and 'items' in results_tracks['tracks']:\n",
        "                for track in results_tracks['tracks']['items']:\n",
        "                    sugestoes_adicionais.append({\n",
        "                        'artista': track['artists'][0]['name'],\n",
        "                        'titulo': track['name'],\n",
        "                        'album': track['album']['name'],\n",
        "                        'url': track['external_urls']['spotify']\n",
        "                    })\n",
        "            else:\n",
        "                print(f\"Aviso: Nenhum resultado adicional de música encontrado para o gênero '{genero}'.\")\n",
        "        except Exception as e:\n",
        "            print(f\"Erro ao buscar mais músicas para o gênero '{genero}': {e}\")\n",
        "    return sugestoes_adicionais\n",
        "\n",
        "def buscar_mais_playlists(genero, sp_client, limit=3):\n",
        "    \"\"\"Busca mais playlists no Spotify para um gênero específico.\"\"\"\n",
        "    sugestoes_adicionais = []\n",
        "    if sp_client and genero:\n",
        "        try:\n",
        "            results_playlists = sp_client.search(q=f'genre:{genero}', type='playlist', limit=limit)\n",
        "            if results_playlists is not None and 'playlists' in results_playlists and 'items' in results_playlists['playlists']:\n",
        "                for playlist in results_playlists['playlists']['items']:\n",
        "                    sugestoes_adicionais.append({\n",
        "                        'nome': playlist['name'],\n",
        "                        'proprietario': playlist['owner']['display_name'],\n",
        "                        'url': playlist['external_urls']['spotify']\n",
        "                    })\n",
        "            else:\n",
        "                print(f\"Aviso: Nenhum resultado adicional de playlist encontrado para o gênero '{genero}'.\")\n",
        "        except Exception as e:\n",
        "            print(f\"Erro ao buscar mais playlists para o gênero '{genero}': {e}\")\n",
        "    return sugestoes_adicionais\n",
        "\n",
        "offset_artistas = 0 # Variável global para controlar o offset dos artistas\n",
        "\n",
        "def buscar_artistas_relacionados(genero, sp_client, limit=5, offset=0):\n",
        "    \"\"\"Busca artistas relacionados a um gênero específico com um offset.\"\"\"\n",
        "    global offset_artistas\n",
        "    artistas_relacionados = []\n",
        "    if sp_client and genero:\n",
        "        try:\n",
        "            results_artists = sp_client.search(q=f'genre:{genero}', type='artist', limit=limit, offset=offset)\n",
        "            if results_artists is not None and 'artists' in results_artists and 'items' in results_artists['artists']:\n",
        "                for artist in results_artists['artists']['items']:\n",
        "                    artistas_relacionados.append({\n",
        "                        'nome': artist['name'],\n",
        "                        'url': artist['external_urls']['spotify']\n",
        "                    })\n",
        "                offset_artistas += limit # Incrementa o offset para a próxima busca\n",
        "            else:\n",
        "                print(f\"Aviso: Nenhum artista relacionado encontrado para o gênero '{genero}' (offset: {offset}).\")\n",
        "        except Exception as e:\n",
        "            print(f\"Erro ao buscar artistas relacionados para o gênero '{genero}' (offset: {offset}): {e}\")\n",
        "    return artistas_relacionados\n",
        "\n",
        "print(\"Função buscar_artistas_relacionados modificada para loop!\")"
      ],
      "metadata": {
        "colab": {
          "base_uri": "https://localhost:8080/"
        },
        "id": "xOsGO6Jot-pF",
        "outputId": "d5000f8f-e0f1-4235-ddf9-a9d8a1322523"
      },
      "execution_count": 88,
      "outputs": [
        {
          "output_type": "stream",
          "name": "stdout",
          "text": [
            "Função buscar_artistas_relacionados modificada para loop!\n"
          ]
        }
      ]
    },
    {
      "cell_type": "code",
      "source": [
        "offset_musicas = 0 # Variável global para controlar o offset das músicas\n",
        "\n",
        "def buscar_mais_musicas_relacionadas(genero, sp_client, limit=5, offset=0):\n",
        "    \"\"\"Busca mais músicas relacionadas a um gênero específico com um offset.\"\"\"\n",
        "    global offset_musicas\n",
        "    sugestoes_adicionais = []\n",
        "    if sp_client and genero:\n",
        "        try:\n",
        "            results_tracks = sp_client.search(q=f'genre:{genero}', type='track', limit=limit, offset=offset)\n",
        "            if results_tracks is not None and 'tracks' in results_tracks and 'items' in results_tracks['tracks']:\n",
        "                for track in results_tracks['tracks']['items']:\n",
        "                    sugestoes_adicionais.append({\n",
        "                        'artista': track['artists'][0]['name'],\n",
        "                        'titulo': track['name'],\n",
        "                        'album': track['album']['name'],\n",
        "                        'url': track['external_urls']['spotify']\n",
        "                    })\n",
        "                offset_musicas += limit # Incrementa o offset para a próxima busca\n",
        "            else:\n",
        "                print(f\"Aviso: Nenhum resultado adicional de música encontrado para o gênero '{genero}' (offset: {offset}).\")\n",
        "        except Exception as e:\n",
        "            print(f\"Erro ao buscar mais músicas para o gênero '{genero}' (offset: {offset}): {e}\")\n",
        "    return sugestoes_adicionais\n",
        "\n",
        "print(\"Função buscar_mais_musicas_relacionadas criada!\")"
      ],
      "metadata": {
        "colab": {
          "base_uri": "https://localhost:8080/"
        },
        "id": "jWxXT8QVxBvA",
        "outputId": "886e4c7d-92a3-4d4e-95e9-ca4f86545e7a"
      },
      "execution_count": 97,
      "outputs": [
        {
          "output_type": "stream",
          "name": "stdout",
          "text": [
            "Função buscar_mais_musicas_relacionadas criada!\n"
          ]
        }
      ]
    },
    {
      "cell_type": "code",
      "source": [
        "from google.colab import files\n",
        "\n",
        "def exportar_resultados(resultados_principais, resultados_musicas_refinadas, resultados_playlists_refinadas, resultados_artistas_refinados):\n",
        "    \"\"\"Exporta os resultados principais e refinados para um arquivo TXT.\"\"\"\n",
        "    nome_arquivo = \"vt_music_suggestions.txt\"\n",
        "\n",
        "    with open(nome_arquivo, 'w') as f:\n",
        "        f.write(\"--- Análise do Gemini ---\\n\")\n",
        "        if 'generos_sugeridos_gemini' in resultados_principais:\n",
        "            f.write(f\"Gêneros Sugeridos: {', '.join(resultados_principais['generos_sugeridos_gemini'])}\\n\")\n",
        "        f.write(\"\\n--- Sugestões do Spotify (Músicas Originais) ---\\n\")\n",
        "        if 'sugestoes_spotify_musicas' in resultados_principais:\n",
        "            for musica in resultados_principais['sugestoes_spotify_musicas']:\n",
        "                f.write(f\"Artista: {musica['artista']}\\n\")\n",
        "                f.write(f\"Título: {musica['titulo']}\\n\")\n",
        "                f.write(f\"Álbum: {musica['album']}\\n\")\n",
        "                f.write(f\"Link: {musica['url']}\\n\\n\")\n",
        "        f.write(\"\\n--- Sugestões do Spotify (Playlists Originais) ---\\n\")\n",
        "        if 'sugestoes_spotify_playlists' in resultados_principais:\n",
        "            for playlist in resultados_principais['sugestoes_spotify_playlists']:\n",
        "                f.write(f\"Nome: {playlist['nome']}\\n\")\n",
        "                f.write(f\"Proprietário: {playlist['proprietario']}\\n\")\n",
        "                f.write(f\"Link: {playlist['url']}\\n\\n\")\n",
        "\n",
        "        if resultados_musicas_refinadas:\n",
        "            f.write(\"\\n--- Sugestões Adicionais de Músicas (Refinamento) ---\\n\")\n",
        "            for musica in resultados_musicas_refinadas:\n",
        "                f.write(f\"Artista: {musica['artista']}\\n\")\n",
        "                f.write(f\"Título: {musica['titulo']}\\n\")\n",
        "                f.write(f\"Álbum: {musica['album']}\\n\")\n",
        "                f.write(f\"Link: {musica['url']}\\n\\n\")\n",
        "\n",
        "        if resultados_playlists_refinadas:\n",
        "            f.write(\"\\n--- Sugestões Adicionais de Playlists (Refinamento) ---\\n\")\n",
        "            for playlist in resultados_playlists_refinadas:\n",
        "                f.write(f\"Nome: {playlist['nome']}\\n\")\n",
        "                f.write(f\"Proprietário: {playlist['proprietario']}\\n\")\n",
        "                f.write(f\"Link: {playlist['url']}\\n\\n\")\n",
        "\n",
        "        if resultados_artistas_refinados:\n",
        "            f.write(\"\\n--- Artistas Relacionados (Refinamento) ---\\n\")\n",
        "            for artista in resultados_artistas_refinados:\n",
        "                f.write(f\"Nome: {artista['nome']}\\n\")\n",
        "                f.write(f\"Link: {artista['url']}\\n\\n\")\n",
        "\n",
        "    files.download(nome_arquivo)\n",
        "    print(f\"Resultados exportados para '{nome_arquivo}'\")"
      ],
      "metadata": {
        "id": "zdv9gyu2zGRc"
      },
      "execution_count": 113,
      "outputs": []
    },
    {
      "cell_type": "code",
      "source": [
        "#@title Insira a descrição do seu vídeo aqui:\n",
        "descricao_do_vt = \"Uma compilação de vídeos engraçados de animais de estimação fazendo coisas adoráveis e desajeitadas. Cenas curtas e rápidas com legendas divertidas. A música precisa ser leve, divertida e talvez até um pouco peculiar para combinar com o tom do vídeo.\" #@param {type:\"string\"}\n",
        "\n",
        "resultados_musicas_refinadas = []\n",
        "resultados_playlists_refinadas = []\n",
        "resultados_artistas_refinados = []\n",
        "\n",
        "def refinar_busca(genero):\n",
        "    global offset_musicas\n",
        "    global offset_artistas\n",
        "    global resultados_musicas_refinadas\n",
        "    global resultados_playlists_refinadas\n",
        "    global resultados_artistas_refinados\n",
        "    offset_musicas = 0\n",
        "    offset_artistas = 0\n",
        "    while True:\n",
        "        print(f\"\\nOpções para refinar a busca no gênero '{genero}':\")\n",
        "        print(\"1. Buscar mais músicas relacionadas\")\n",
        "        print(\"2. Buscar mais playlists relacionadas\")\n",
        "        print(\"3. Buscar mais artistas relacionados\")\n",
        "        print(\"4. Voltar ao menu principal\")\n",
        "        opcao = input(\"Digite o número da opção desejada: \")\n",
        "        if opcao == '1':\n",
        "            resultados = buscar_mais_musicas_relacionadas(genero, sp, offset=offset_musicas)\n",
        "            if resultados:\n",
        "                print(\"\\nSugestões adicionais de músicas relacionadas:\")\n",
        "                for sugestao in resultados:\n",
        "                    print(f\"* Artista: {sugestao['artista']}, Título: {sugestao['titulo']}\")\n",
        "                    resultados_musicas_refinadas.append(sugestao) # Adiciona aos resultados refinados\n",
        "                input(\"\\nPressione Enter para ver mais músicas relacionadas...\")\n",
        "            else:\n",
        "                print(\"Nenhuma sugestão adicional de música relacionada encontrada.\")\n",
        "        elif opcao == '2':\n",
        "            resultados = buscar_mais_playlists(genero, sp)\n",
        "            if resultados:\n",
        "                print(\"\\nSugestões adicionais de playlists relacionadas:\")\n",
        "                for sugestao in resultados:\n",
        "                    print(f\"* Nome: {sugestao['nome']}, Proprietário: {sugestao['proprietario']}\")\n",
        "                    resultados_playlists_refinadas.append(sugestao) # Adiciona aos resultados refinados\n",
        "                input(\"\\nPressione Enter para ver mais playlists relacionadas...\")\n",
        "            else:\n",
        "                print(\"Nenhuma sugestão adicional de playlist relacionada encontrada.\")\n",
        "        elif opcao == '3':\n",
        "            artistas = buscar_artistas_relacionados(genero, sp, offset=offset_artistas)\n",
        "            if artistas:\n",
        "                print(\"\\nArtistas relacionados:\")\n",
        "                for artista in artistas:\n",
        "                    print(f\"* Nome: {artista['nome']}\")\n",
        "                    resultados_artistas_refinados.append(artista) # Adiciona aos resultados refinados\n",
        "                input(\"\\nPressione Enter para ver mais artistas relacionados...\")\n",
        "            else:\n",
        "                print(\"Nenhum artista relacionado adicional encontrado.\")\n",
        "        elif opcao == '4':\n",
        "            break\n",
        "        else:\n",
        "            print(\"Opção inválida. Por favor, digite um número de 1 a 4.\")\n",
        "\n",
        "if descricao_do_vt:\n",
        "    resultados_principais = analisar_vt_e_sugerir_musica_com_spotify_e_playlists(descricao_do_vt)\n",
        "    print(formatar_resultado_com_playlists(resultados_principais))\n",
        "\n",
        "    while True:\n",
        "        print(\"\\nOpções:\")\n",
        "        print(\"1. Refinar busca por gênero\")\n",
        "        print(\"2. Sair e exportar resultados (TXT)\")\n",
        "        opcao_principal = input(\"Digite o número da opção desejada: \")\n",
        "\n",
        "        if opcao_principal == '1':\n",
        "            generos_sugeridos = resultados_principais['generos_sugeridos_gemini']\n",
        "            if generos_sugeridos:\n",
        "                print(\"\\nVocê gostaria de refinar a busca por algum destes gêneros?\")\n",
        "                for i, genero in enumerate(generos_sugeridos):\n",
        "                    print(f\"{i+1}. {genero}\")\n",
        "                genero_escolhido_index = input(\"Digite o número do gênero para refinar (ou pressione Enter para continuar): \")\n",
        "                if genero_escolhido_index.isdigit() and 1 <= int(genero_escolhido_index) <= len(generos_sugeridos):\n",
        "                    genero_refinado = generos_sugeridos[int(genero_escolhido_index) - 1]\n",
        "                    refinar_busca(genero_refinado)\n",
        "                else:\n",
        "                    print(\"\\nNenhuma refinação de gênero selecionada.\")\n",
        "            else:\n",
        "                print(\"Nenhum gênero sugerido para refinar.\")\n",
        "        elif opcao_principal == '2':\n",
        "            exportar_resultados(resultados_principais, resultados_musicas_refinadas, resultados_playlists_refinadas, resultados_artistas_refinados)\n",
        "            print(\"Saindo e exportando os resultados.\")\n",
        "            break\n",
        "        else:\n",
        "            print(\"Opção inválida. Por favor, digite 1 ou 2.\")\n",
        "\n",
        "else:\n",
        "    print(\"Por favor, insira a descrição do vídeo no campo acima.\")"
      ],
      "metadata": {
        "colab": {
          "base_uri": "https://localhost:8080/",
          "height": 1000
        },
        "id": "s9R02Y4T1l6O",
        "outputId": "50c66aa5-a0cc-4de2-af4e-eaa7c396f383"
      },
      "execution_count": 118,
      "outputs": [
        {
          "name": "stdout",
          "output_type": "stream",
          "text": [
            "Aviso: Erro ao iterar sobre os itens de playlist para o gênero 'Pop'. A resposta 'items' pode ser None.\n",
            "## Análise do Gemini:\n",
            "\n",
            "* Comédia\n",
            "* Pop\n",
            "* Infantil\n",
            "\n",
            "## Sugestões de Músicas do Spotify:\n",
            "\n",
            "* **Artista:** Franco Escamilla\n",
            "* **Título:** El y Yo\n",
            "* **Álbum:** Fe\n",
            "* **Link:** https://open.spotify.com/track/2H1uTK1SvKijag9Xofk7vO\n",
            "\n",
            "* **Artista:** D.A.R.\n",
            "* **Título:** Sea por el Amor de Dios\n",
            "* **Álbum:** Agustine Ramirez 15 Hits Collection\n",
            "* **Link:** https://open.spotify.com/track/1apzIR94VVaUabh7VqCiaX\n",
            "\n",
            "* **Artista:** Alan Saldaña\n",
            "* **Título:** Soy Pobre - En Vivo\n",
            "* **Álbum:** Lo Mejor de Alan Saldaña (En Vivo)\n",
            "* **Link:** https://open.spotify.com/track/7LX2NPEqONCNHkAsogFlci\n",
            "\n",
            "* **Artista:** Billie Eilish\n",
            "* **Título:** BIRDS OF A FEATHER\n",
            "* **Álbum:** HIT ME HARD AND SOFT\n",
            "* **Link:** https://open.spotify.com/track/6dOtVTDdiauQNBQEDOtlAB\n",
            "\n",
            "* **Artista:** The Marías\n",
            "* **Título:** No One Noticed\n",
            "* **Álbum:** Submarine\n",
            "* **Link:** https://open.spotify.com/track/3siwsiaEoU4Kuuc9WKMUy5\n",
            "\n",
            "* **Artista:** Chappell Roan\n",
            "* **Título:** Good Luck, Babe!\n",
            "* **Álbum:** Good Luck, Babe!\n",
            "* **Link:** https://open.spotify.com/track/0WbMK4wrZ1wFSty9F7FCgu\n",
            "\n",
            "* **Artista:** Pequeno Cidadão\n",
            "* **Título:** O Sol e a Lua\n",
            "* **Álbum:** Pequeno Cidadão\n",
            "* **Link:** https://open.spotify.com/track/4uNECVAqc6LjDH8pqXH3Ey\n",
            "\n",
            "* **Artista:** Mariana Mallol\n",
            "* **Título:** El Cocodrilo y el Orangután\n",
            "* **Álbum:** Abrazos, Besos y Apapachos\n",
            "* **Link:** https://open.spotify.com/track/52kqFv5uzPoNTPPnbo7jYZ\n",
            "\n",
            "* **Artista:** Mariana Mallol\n",
            "* **Título:** Hola Hola\n",
            "* **Álbum:** Abrazos, Besos y Apapachos\n",
            "* **Link:** https://open.spotify.com/track/2rPhRAmxu3GSNQpFE8OlCY\n",
            "\n",
            "\n",
            "## Sugestões de Playlists do Spotify:\n",
            "\n",
            "* **Nome:** Comedy Hörbücher & Hörspiele // lismio\n",
            "* **Proprietário:** lismio: Hörbücher & Hörspiele\n",
            "* **Link:** https://open.spotify.com/playlist/5oweTxTHPuylQMNEyciUb9\n",
            "\n",
            "* **Nome:** Bob Monkhouse MASSIVE\n",
            "* **Proprietário:** Leo Croft\n",
            "* **Link:** https://open.spotify.com/playlist/7IB3b0TX0Ow1GiUNJZo8x9\n",
            "\n",
            "\n",
            "\n",
            "Opções:\n",
            "1. Refinar busca por gênero\n",
            "2. Sair e exportar resultados (TXT)\n",
            "Digite o número da opção desejada: 2\n"
          ]
        },
        {
          "output_type": "display_data",
          "data": {
            "text/plain": [
              "<IPython.core.display.Javascript object>"
            ],
            "application/javascript": [
              "\n",
              "    async function download(id, filename, size) {\n",
              "      if (!google.colab.kernel.accessAllowed) {\n",
              "        return;\n",
              "      }\n",
              "      const div = document.createElement('div');\n",
              "      const label = document.createElement('label');\n",
              "      label.textContent = `Downloading \"${filename}\": `;\n",
              "      div.appendChild(label);\n",
              "      const progress = document.createElement('progress');\n",
              "      progress.max = size;\n",
              "      div.appendChild(progress);\n",
              "      document.body.appendChild(div);\n",
              "\n",
              "      const buffers = [];\n",
              "      let downloaded = 0;\n",
              "\n",
              "      const channel = await google.colab.kernel.comms.open(id);\n",
              "      // Send a message to notify the kernel that we're ready.\n",
              "      channel.send({})\n",
              "\n",
              "      for await (const message of channel.messages) {\n",
              "        // Send a message to notify the kernel that we're ready.\n",
              "        channel.send({})\n",
              "        if (message.buffers) {\n",
              "          for (const buffer of message.buffers) {\n",
              "            buffers.push(buffer);\n",
              "            downloaded += buffer.byteLength;\n",
              "            progress.value = downloaded;\n",
              "          }\n",
              "        }\n",
              "      }\n",
              "      const blob = new Blob(buffers, {type: 'application/binary'});\n",
              "      const a = document.createElement('a');\n",
              "      a.href = window.URL.createObjectURL(blob);\n",
              "      a.download = filename;\n",
              "      div.appendChild(a);\n",
              "      a.click();\n",
              "      div.remove();\n",
              "    }\n",
              "  "
            ]
          },
          "metadata": {}
        },
        {
          "output_type": "display_data",
          "data": {
            "text/plain": [
              "<IPython.core.display.Javascript object>"
            ],
            "application/javascript": [
              "download(\"download_95dab89b-b057-4834-984c-4b7204e2399f\", \"vt_music_suggestions.txt\", 1711)"
            ]
          },
          "metadata": {}
        },
        {
          "output_type": "stream",
          "name": "stdout",
          "text": [
            "Resultados exportados para 'vt_music_suggestions.txt'\n",
            "Saindo e exportando os resultados.\n"
          ]
        }
      ]
    },
    {
      "cell_type": "code",
      "source": [],
      "metadata": {
        "id": "eV7UIMbY1sQ7"
      },
      "execution_count": null,
      "outputs": []
    }
  ]
}