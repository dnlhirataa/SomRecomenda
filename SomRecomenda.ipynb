{
  "nbformat": 4,
  "nbformat_minor": 0,
  "metadata": {
    "colab": {
      "provenance": []
    },
    "kernelspec": {
      "name": "python3",
      "display_name": "Python 3"
    },
    "language_info": {
      "name": "python"
    }
  },
  "cells": [
    {
      "cell_type": "code",
      "execution_count": 44,
      "metadata": {
        "colab": {
          "base_uri": "https://localhost:8080/"
        },
        "id": "Rka1vJ18gYg_",
        "outputId": "18c42471-bc91-431a-eb24-93ee20dd800b"
      },
      "outputs": [
        {
          "output_type": "stream",
          "name": "stdout",
          "text": [
            "Requirement already satisfied: google-genai in /usr/local/lib/python3.11/dist-packages (1.15.0)\n",
            "Requirement already satisfied: anyio<5.0.0,>=4.8.0 in /usr/local/lib/python3.11/dist-packages (from google-genai) (4.9.0)\n",
            "Requirement already satisfied: google-auth<3.0.0,>=2.14.1 in /usr/local/lib/python3.11/dist-packages (from google-genai) (2.38.0)\n",
            "Requirement already satisfied: httpx<1.0.0,>=0.28.1 in /usr/local/lib/python3.11/dist-packages (from google-genai) (0.28.1)\n",
            "Requirement already satisfied: pydantic<3.0.0,>=2.0.0 in /usr/local/lib/python3.11/dist-packages (from google-genai) (2.11.4)\n",
            "Requirement already satisfied: requests<3.0.0,>=2.28.1 in /usr/local/lib/python3.11/dist-packages (from google-genai) (2.32.3)\n",
            "Requirement already satisfied: websockets<15.1.0,>=13.0.0 in /usr/local/lib/python3.11/dist-packages (from google-genai) (15.0.1)\n",
            "Requirement already satisfied: typing-extensions<5.0.0,>=4.11.0 in /usr/local/lib/python3.11/dist-packages (from google-genai) (4.13.2)\n",
            "Requirement already satisfied: idna>=2.8 in /usr/local/lib/python3.11/dist-packages (from anyio<5.0.0,>=4.8.0->google-genai) (3.10)\n",
            "Requirement already satisfied: sniffio>=1.1 in /usr/local/lib/python3.11/dist-packages (from anyio<5.0.0,>=4.8.0->google-genai) (1.3.1)\n",
            "Requirement already satisfied: cachetools<6.0,>=2.0.0 in /usr/local/lib/python3.11/dist-packages (from google-auth<3.0.0,>=2.14.1->google-genai) (5.5.2)\n",
            "Requirement already satisfied: pyasn1-modules>=0.2.1 in /usr/local/lib/python3.11/dist-packages (from google-auth<3.0.0,>=2.14.1->google-genai) (0.4.2)\n",
            "Requirement already satisfied: rsa<5,>=3.1.4 in /usr/local/lib/python3.11/dist-packages (from google-auth<3.0.0,>=2.14.1->google-genai) (4.9.1)\n",
            "Requirement already satisfied: certifi in /usr/local/lib/python3.11/dist-packages (from httpx<1.0.0,>=0.28.1->google-genai) (2025.4.26)\n",
            "Requirement already satisfied: httpcore==1.* in /usr/local/lib/python3.11/dist-packages (from httpx<1.0.0,>=0.28.1->google-genai) (1.0.9)\n",
            "Requirement already satisfied: h11>=0.16 in /usr/local/lib/python3.11/dist-packages (from httpcore==1.*->httpx<1.0.0,>=0.28.1->google-genai) (0.16.0)\n",
            "Requirement already satisfied: annotated-types>=0.6.0 in /usr/local/lib/python3.11/dist-packages (from pydantic<3.0.0,>=2.0.0->google-genai) (0.7.0)\n",
            "Requirement already satisfied: pydantic-core==2.33.2 in /usr/local/lib/python3.11/dist-packages (from pydantic<3.0.0,>=2.0.0->google-genai) (2.33.2)\n",
            "Requirement already satisfied: typing-inspection>=0.4.0 in /usr/local/lib/python3.11/dist-packages (from pydantic<3.0.0,>=2.0.0->google-genai) (0.4.0)\n",
            "Requirement already satisfied: charset-normalizer<4,>=2 in /usr/local/lib/python3.11/dist-packages (from requests<3.0.0,>=2.28.1->google-genai) (3.4.2)\n",
            "Requirement already satisfied: urllib3<3,>=1.21.1 in /usr/local/lib/python3.11/dist-packages (from requests<3.0.0,>=2.28.1->google-genai) (2.4.0)\n",
            "Requirement already satisfied: pyasn1<0.7.0,>=0.6.1 in /usr/local/lib/python3.11/dist-packages (from pyasn1-modules>=0.2.1->google-auth<3.0.0,>=2.14.1->google-genai) (0.6.1)\n"
          ]
        }
      ],
      "source": [
        "!pip install google-genai"
      ]
    },
    {
      "cell_type": "code",
      "source": [
        "import os\n",
        "import google.generativeai as genai\n",
        "\n",
        "os.environ['GOOGLE_API_KEY'] =userdata.get('GOOGLE_API_KEY')"
      ],
      "metadata": {
        "id": "9lr3YMiDgiHC"
      },
      "execution_count": 45,
      "outputs": []
    },
    {
      "cell_type": "code",
      "source": [
        "genai.configure(api_key=os.environ['GOOGLE_API_KEY'])\n",
        "\n",
        "model = genai.GenerativeModel('gemini-2.0-flash')\n",
        "\n",
        "print(\"Biblioteca Gemini configurada usando a variável de ambiente!\")"
      ],
      "metadata": {
        "colab": {
          "base_uri": "https://localhost:8080/"
        },
        "id": "zEK9omnDgp2N",
        "outputId": "906a712e-283a-49b0-b5e7-0d5c71feccd1"
      },
      "execution_count": 46,
      "outputs": [
        {
          "output_type": "stream",
          "name": "stdout",
          "text": [
            "Biblioteca Gemini configurada usando a variável de ambiente!\n"
          ]
        }
      ]
    },
    {
      "cell_type": "code",
      "source": [
        "def analisar_vt_e_sugerir_musica(descricao_vt):\n",
        "    prompt = f\"\"\"Analise a seguinte descrição de um vídeo (VT) e identifique o sentimento predominante,\n",
        "o tom geral, o estilo e tente associar com arquétipos ou temas universais presentes.\n",
        "\n",
        "Com base nessa análise, sugira alguns artistas ou músicas específicas que poderiam ser adequados para este VT.\n",
        "Justifique brevemente cada sugestão com base na sua análise.\n",
        "\n",
        "Descrição do VT:\n",
        "{descricao_vt}\n",
        "\"\"\"\n",
        "    response = model.generate_content(prompt)\n",
        "    return response.text"
      ],
      "metadata": {
        "id": "u1RRv3AkiVji"
      },
      "execution_count": 47,
      "outputs": []
    },
    {
      "cell_type": "code",
      "source": [
        "descricao_exemplo = \"Um vídeo curto e divertido mostrando um grupo de amigos rindo e se divertindo em uma festa na praia ao pôr do sol. A música deve ser animada, alegre e ter uma vibe relaxante de verão.\"\n",
        "\n",
        "resultado_gemini = analisar_vt_e_sugerir_musica(descricao_exemplo)\n",
        "print(resultado_gemini)"
      ],
      "metadata": {
        "colab": {
          "base_uri": "https://localhost:8080/",
          "height": 825
        },
        "id": "sRnGl8U8jUuY",
        "outputId": "1fe5f20a-2573-4db9-f5f8-57ba3cfc5b41"
      },
      "execution_count": 48,
      "outputs": [
        {
          "output_type": "stream",
          "name": "stdout",
          "text": [
            "## Análise da Descrição do VT\n",
            "\n",
            "**Sentimento Predominante:** Alegria, felicidade, descontração e amizade.\n",
            "\n",
            "**Tom Geral:** Leve, divertido, positivo e despreocupado.\n",
            "\n",
            "**Estilo:** Casual, autêntico, vibrante e \"instagramável\" (visualmente atraente e adequado para redes sociais).\n",
            "\n",
            "**Arquétipos/Temas Universais:**\n",
            "\n",
            "*   **A Busca pela Felicidade:** A celebração da alegria e da experiência positiva.\n",
            "*   **Camaradagem/Amizade:** O valor das conexões e momentos compartilhados com amigos.\n",
            "*   **A Juventude:** A energia, vitalidade e a despreocupação típicas dessa fase da vida.\n",
            "*   **Paraíso/Escape:** A praia ao pôr do sol como um cenário idílico de fuga da rotina.\n",
            "\n",
            "## Sugestões de Artistas e Músicas\n",
            "\n",
            "Com base na análise acima, aqui estão algumas sugestões de artistas e músicas que poderiam ser adequadas para este VT, juntamente com suas justificativas:\n",
            "\n",
            "**1. Artista: Jack Johnson**\n",
            "\n",
            "*   **Música Sugerida:** \"Better Together\" ou \"Banana Pancakes\"\n",
            "*   **Justificativa:** Jack Johnson personifica a vibe relaxante de verão. Suas músicas são alegres, suaves e evocam a sensação de estar na praia sem preocupações, combinando perfeitamente com a atmosfera do VT. As letras sobre conexão e momentos agradáveis ressoam com o tema da amizade.\n",
            "\n",
            "**2. Artista: Jason Mraz**\n",
            "\n",
            "*   **Música Sugerida:** \"I'm Yours\" ou \"Have It All\"\n",
            "*   **Justificativa:** Jason Mraz oferece uma sonoridade otimista e contagiante. \"I'm Yours\" é um hino à positividade e à entrega ao momento, enquanto \"Have It All\" celebra a abundância de alegria e boas vibrações, que se alinham com o sentimento predominante no VT.\n",
            "\n",
            "**3. Artista: Kygo (estilo Tropical House)**\n",
            "\n",
            "*   **Música Sugerida:** \"Firestone\" (feat. Conrad Sewell) ou \"Stole the Show\" (feat. Parson James)\n",
            "*   **Justificativa:** Kygo e o estilo Tropical House trazem batidas animadas e melodias relaxantes, perfeitas para um cenário de festa na praia ao pôr do sol. Suas músicas criam uma atmosfera de celebração e liberdade, ideal para complementar as imagens de amigos se divertindo.\n",
            "\n",
            "**4. Artista: LANY**\n",
            "\n",
            "*   **Música Sugerida:** \"Malibu Nights\" ou \"Super Far\" (mais animada)\n",
            "*   **Justificativa:** LANY oferece um som mais pop e moderno, mas ainda com nuances de relaxamento. As letras podem não se encaixar perfeitamente, mas a vibe sonora é moderna e solar, ideal para um vídeo com estética instagramável e visual atraente.\n",
            "\n",
            "**5. Artista: Donavon Frankenreiter**\n",
            "\n",
            "*   **Música Sugerida:** \"Free\" ou \"It Don't Matter\"\n",
            "*   **Justificativa:** Donavon Frankenreiter, com seu estilo surf rock e letras despreocupadas, seria uma escolha natural. Suas músicas capturam a essência da vida na praia, a liberdade e a alegria de viver o momento, tudo em perfeita sintonia com o espírito do VT.\n",
            "\n"
          ]
        }
      ]
    },
    {
      "cell_type": "code",
      "source": [
        "!pip install spotipy"
      ],
      "metadata": {
        "colab": {
          "base_uri": "https://localhost:8080/"
        },
        "id": "y_VR1pt0jWWQ",
        "outputId": "04673f4d-d632-4bd9-9e65-08b8be6fd529"
      },
      "execution_count": 49,
      "outputs": [
        {
          "output_type": "stream",
          "name": "stdout",
          "text": [
            "Requirement already satisfied: spotipy in /usr/local/lib/python3.11/dist-packages (2.25.1)\n",
            "Requirement already satisfied: redis>=3.5.3 in /usr/local/lib/python3.11/dist-packages (from spotipy) (6.1.0)\n",
            "Requirement already satisfied: requests>=2.25.0 in /usr/local/lib/python3.11/dist-packages (from spotipy) (2.32.3)\n",
            "Requirement already satisfied: urllib3>=1.26.0 in /usr/local/lib/python3.11/dist-packages (from spotipy) (2.4.0)\n",
            "Requirement already satisfied: charset-normalizer<4,>=2 in /usr/local/lib/python3.11/dist-packages (from requests>=2.25.0->spotipy) (3.4.2)\n",
            "Requirement already satisfied: idna<4,>=2.5 in /usr/local/lib/python3.11/dist-packages (from requests>=2.25.0->spotipy) (3.10)\n",
            "Requirement already satisfied: certifi>=2017.4.17 in /usr/local/lib/python3.11/dist-packages (from requests>=2.25.0->spotipy) (2025.4.26)\n"
          ]
        }
      ]
    },
    {
      "cell_type": "code",
      "source": [
        "import spotipy\n",
        "from spotipy.oauth2 import SpotifyClientCredentials\n",
        "from google.colab import userdata\n",
        "\n",
        "# Acesse as credenciais do Spotify dos segredos do Colab\n",
        "SPOTIPY_CLIENT_ID = userdata.get('SPOTIPY_CLIENT_ID')\n",
        "SPOTIPY_CLIENT_SECRET = userdata.get('SPOTIPY_CLIENT_SECRET')\n",
        "\n",
        "client_credentials_manager = SpotifyClientCredentials(client_id=SPOTIPY_CLIENT_ID,\n",
        "                                                       client_secret=SPOTIPY_CLIENT_SECRET)\n",
        "sp = spotipy.Spotify(client_credentials_manager=client_credentials_manager)\n",
        "\n",
        "print(\"API do Spotify autenticada com sucesso!\")"
      ],
      "metadata": {
        "colab": {
          "base_uri": "https://localhost:8080/"
        },
        "id": "FfdHV9XEnNpw",
        "outputId": "b62e267e-ed4b-4c17-d24c-0fa44a0574a1"
      },
      "execution_count": 50,
      "outputs": [
        {
          "output_type": "stream",
          "name": "stdout",
          "text": [
            "API do Spotify autenticada com sucesso!\n"
          ]
        }
      ]
    },
    {
      "cell_type": "code",
      "source": [
        "def analisar_vt_e_sugerir_musica_com_spotify_e_playlists(descricao_vt):\n",
        "    \"\"\"\n",
        "    Analisa a descrição de um VT usando o Gemini e sugere artistas/músicas e playlists\n",
        "    usando também a API do Spotify.\n",
        "\n",
        "    Args:\n",
        "        descricao_vt: Uma string contendo a descrição textual detalhada do VT.\n",
        "\n",
        "    Returns:\n",
        "        Um dicionário contendo as sugestões de artistas/músicas e playlists\n",
        "        geradas pelo Gemini e pela API do Spotify.\n",
        "    \"\"\"\n",
        "    prompt_gemini_generos_simples = f\"\"\"Analise a seguinte descrição de um vídeo (VT) e liste até 3 gêneros musicais amplos que seriam adequados para a trilha sonora.\n",
        "Liste apenas o nome dos gêneros, um por linha.\n",
        "\n",
        "Descrição do VT:\n",
        "{descricao_vt}\n",
        "\"\"\"\n",
        "\n",
        "    generos_sugeridos = []\n",
        "\n",
        "    try:\n",
        "        response_gemini_generos = model.generate_content(prompt_gemini_generos_simples)\n",
        "        # Limpando os gêneros removendo caracteres extras\n",
        "        generos_sugeridos = [genero.strip().lstrip('*').strip() for genero in response_gemini_generos.text.split('\\n') if genero.strip()]\n",
        "    except Exception as e:\n",
        "        print(f\"Erro ao obter gêneros do Gemini: {e}\")\n",
        "\n",
        "    sugestoes_spotify_musicas = []\n",
        "    if sp and generos_sugeridos:\n",
        "        for genero in generos_sugeridos:\n",
        "            try:\n",
        "                # Buscar por músicas (mantendo a lógica existente)\n",
        "                results_tracks = sp.search(q=f'genre:{genero}', type='track', limit=3)\n",
        "                if results_tracks is not None and 'tracks' in results_tracks and 'items' in results_tracks['tracks']:\n",
        "                    for track in results_tracks['tracks']['items']:\n",
        "                        sugestoes_spotify_musicas.append({\n",
        "                            'artista': track['artists'][0]['name'],\n",
        "                            'titulo': track['name'],\n",
        "                            'album': track['album']['name'],\n",
        "                            'url': track['external_urls']['spotify']\n",
        "                        })\n",
        "                else:\n",
        "                    print(f\"Aviso ao buscar músicas para o gênero '{genero}': Nenhum resultado válido retornado.\")\n",
        "            except Exception as e:\n",
        "                print(f\"Erro ao buscar músicas no Spotify para o gênero '{genero}': {e}\")\n",
        "\n",
        "    # Chamar a função para buscar playlists\n",
        "    sugestoes_spotify_playlists = buscar_playlists_spotify(generos_sugeridos, sp)\n",
        "\n",
        "    return {\n",
        "        'generos_sugeridos_gemini': generos_sugeridos,\n",
        "        'sugestoes_spotify_musicas': sugestoes_spotify_musicas,\n",
        "        'sugestoes_spotify_playlists': sugestoes_spotify_playlists\n",
        "    }\n",
        "\n",
        "print(\"Função principal de análise e sugestão (limpeza de gêneros) criada!\")"
      ],
      "metadata": {
        "colab": {
          "base_uri": "https://localhost:8080/"
        },
        "id": "AcRXUn79n1xz",
        "outputId": "1e7714c6-09b9-4b07-a88f-45859b60b6d5"
      },
      "execution_count": 51,
      "outputs": [
        {
          "output_type": "stream",
          "name": "stdout",
          "text": [
            "Função principal de análise e sugestão (limpeza de gêneros) criada!\n"
          ]
        }
      ]
    },
    {
      "cell_type": "code",
      "source": [
        "def buscar_playlists_spotify(generos, sp_client):\n",
        "    \"\"\"\n",
        "    Busca playlists no Spotify com base em uma lista de gêneros.\n",
        "\n",
        "    Args:\n",
        "        generos: Uma lista de strings contendo os gêneros musicais.\n",
        "        sp_client: O objeto cliente da API do Spotify (spotipy.Spotify).\n",
        "\n",
        "    Returns:\n",
        "        Uma lista de dicionários, onde cada dicionário representa uma playlist\n",
        "        encontrada (nome, proprietário, url). Retorna uma lista vazia em caso de erro\n",
        "        ou se nenhum resultado for encontrado.\n",
        "    \"\"\"\n",
        "    sugestoes_spotify_playlists = []\n",
        "    if sp_client and generos:\n",
        "        for genero in generos:\n",
        "            try:\n",
        "                results_playlists = sp_client.search(q=f'genre:{genero}', type='playlist', limit=2)\n",
        "                if results_playlists is not None and 'playlists' in results_playlists and isinstance(results_playlists['playlists'], dict) and 'items' in results_playlists['playlists']:\n",
        "                    try:\n",
        "                        for playlist in results_playlists['playlists']['items']:\n",
        "                            sugestoes_spotify_playlists.append({\n",
        "                                'nome': playlist['name'],\n",
        "                                'proprietario': playlist['owner']['display_name'],\n",
        "                                'url': playlist['external_urls']['spotify']\n",
        "                            })\n",
        "                    except TypeError:\n",
        "                        print(f\"Aviso: Erro ao iterar sobre os itens de playlist para o gênero '{genero}'. A resposta 'items' pode ser None.\")\n",
        "                elif results_playlists is not None and 'playlists' in results_playlists:\n",
        "                    print(f\"Aviso: Estrutura de playlist inesperada para o gênero '{genero}'. Chaves: {results_playlists['playlists'].keys()}\")\n",
        "                elif results_playlists is not None:\n",
        "                    print(f\"Aviso: Resposta de playlist inesperada para o gênero '{genero}'. Chaves: {results_playlists.keys()}\")\n",
        "                else:\n",
        "                    print(f\"Aviso: Nenhum resultado de playlist válido retornado para o gênero '{genero}'.\")\n",
        "\n",
        "            except Exception as e:\n",
        "                print(f\"Erro ao buscar playlists no Spotify para o gênero '{genero}': {e}\")\n",
        "    return sugestoes_spotify_playlists\n",
        "\n",
        "print(\"Função para buscar playlists no Spotify criada!\")"
      ],
      "metadata": {
        "colab": {
          "base_uri": "https://localhost:8080/"
        },
        "id": "0kk8iqh6oNhw",
        "outputId": "71a2d95a-fb73-4338-feb9-de481424cb5b"
      },
      "execution_count": 52,
      "outputs": [
        {
          "output_type": "stream",
          "name": "stdout",
          "text": [
            "Função para buscar playlists no Spotify criada!\n"
          ]
        }
      ]
    },
    {
      "cell_type": "code",
      "source": [
        "def buscar_mais_musicas(genero, sp_client, limit=5):\n",
        "    \"\"\"Busca mais músicas no Spotify para um gênero específico.\"\"\"\n",
        "    sugestoes_adicionais = []\n",
        "    if sp_client and genero:\n",
        "        try:\n",
        "            results_tracks = sp_client.search(q=f'genre:{genero}', type='track', limit=limit)\n",
        "            if results_tracks is not None and 'tracks' in results_tracks and 'items' in results_tracks['tracks']:\n",
        "                for track in results_tracks['tracks']['items']:\n",
        "                    sugestoes_adicionais.append({\n",
        "                        'artista': track['artists'][0]['name'],\n",
        "                        'titulo': track['name'],\n",
        "                        'album': track['album']['name'],\n",
        "                        'url': track['external_urls']['spotify']\n",
        "                    })\n",
        "            else:\n",
        "                print(f\"Aviso: Nenhum resultado adicional de música encontrado para o gênero '{genero}'.\")\n",
        "        except Exception as e:\n",
        "            print(f\"Erro ao buscar mais músicas para o gênero '{genero}': {e}\")\n",
        "    return sugestoes_adicionais\n",
        "\n",
        "def buscar_mais_playlists(genero, sp_client, limit=3):\n",
        "    \"\"\"Busca mais playlists no Spotify para um gênero específico.\"\"\"\n",
        "    sugestoes_adicionais = []\n",
        "    if sp_client and genero:\n",
        "        try:\n",
        "            results_playlists = sp_client.search(q=f'genre:{genero}', type='playlist', limit=limit)\n",
        "            if results_playlists is not None and 'playlists' in results_playlists and 'items' in results_playlists['playlists']:\n",
        "                for playlist in results_playlists['playlists']['items']:\n",
        "                    sugestoes_adicionais.append({\n",
        "                        'nome': playlist['name'],\n",
        "                        'proprietario': playlist['owner']['display_name'],\n",
        "                        'url': playlist['external_urls']['spotify']\n",
        "                    })\n",
        "            else:\n",
        "                print(f\"Aviso: Nenhum resultado adicional de playlist encontrado para o gênero '{genero}'.\")\n",
        "        except Exception as e:\n",
        "            print(f\"Erro ao buscar mais playlists para o gênero '{genero}': {e}\")\n",
        "    return sugestoes_adicionais\n",
        "\n",
        "offset_artistas = 0 # Variável global para controlar o offset dos artistas\n",
        "\n",
        "def buscar_artistas_relacionados(genero, sp_client, limit=5, offset=0):\n",
        "    \"\"\"Busca artistas relacionados a um gênero específico com um offset.\"\"\"\n",
        "    global offset_artistas\n",
        "    artistas_relacionados = []\n",
        "    if sp_client and genero:\n",
        "        try:\n",
        "            results_artists = sp_client.search(q=f'genre:{genero}', type='artist', limit=limit, offset=offset)\n",
        "            if results_artists is not None and 'artists' in results_artists and 'items' in results_artists['artists']:\n",
        "                for artist in results_artists['artists']['items']:\n",
        "                    artistas_relacionados.append({\n",
        "                        'nome': artist['name'],\n",
        "                        'url': artist['external_urls']['spotify']\n",
        "                    })\n",
        "                offset_artistas += limit # Incrementa o offset para a próxima busca\n",
        "            else:\n",
        "                print(f\"Aviso: Nenhum artista relacionado encontrado para o gênero '{genero}' (offset: {offset}).\")\n",
        "        except Exception as e:\n",
        "            print(f\"Erro ao buscar artistas relacionados para o gênero '{genero}' (offset: {offset}): {e}\")\n",
        "    return artistas_relacionados\n",
        "\n",
        "print(\"Função buscar_artistas_relacionados modificada para loop!\")"
      ],
      "metadata": {
        "colab": {
          "base_uri": "https://localhost:8080/"
        },
        "id": "xOsGO6Jot-pF",
        "outputId": "3ab21850-d619-4e28-e92d-debe3ee49bb3"
      },
      "execution_count": 53,
      "outputs": [
        {
          "output_type": "stream",
          "name": "stdout",
          "text": [
            "Função buscar_artistas_relacionados modificada para loop!\n"
          ]
        }
      ]
    },
    {
      "cell_type": "code",
      "source": [
        "offset_musicas = 0 # Variável global para controlar o offset das músicas\n",
        "\n",
        "def buscar_mais_musicas_relacionadas(genero, sp_client, limit=5, offset=0):\n",
        "    \"\"\"Busca mais músicas relacionadas a um gênero específico com um offset.\"\"\"\n",
        "    global offset_musicas\n",
        "    sugestoes_adicionais = []\n",
        "    if sp_client and genero:\n",
        "        try:\n",
        "            results_tracks = sp_client.search(q=f'genre:{genero}', type='track', limit=limit, offset=offset)\n",
        "            if results_tracks is not None and 'tracks' in results_tracks and 'items' in results_tracks['tracks']:\n",
        "                for track in results_tracks['tracks']['items']:\n",
        "                    sugestoes_adicionais.append({\n",
        "                        'artista': track['artists'][0]['name'],\n",
        "                        'titulo': track['name'],\n",
        "                        'album': track['album']['name'],\n",
        "                        'url': track['external_urls']['spotify']\n",
        "                    })\n",
        "                offset_musicas += limit # Incrementa o offset para a próxima busca\n",
        "            else:\n",
        "                print(f\"Aviso: Nenhum resultado adicional de música encontrado para o gênero '{genero}' (offset: {offset}).\")\n",
        "        except Exception as e:\n",
        "            print(f\"Erro ao buscar mais músicas para o gênero '{genero}' (offset: {offset}): {e}\")\n",
        "    return sugestoes_adicionais\n",
        "\n",
        "print(\"Função buscar_mais_musicas_relacionadas criada!\")"
      ],
      "metadata": {
        "colab": {
          "base_uri": "https://localhost:8080/"
        },
        "id": "jWxXT8QVxBvA",
        "outputId": "1e636ee7-0400-4ee2-df73-f05bd7f6e62f"
      },
      "execution_count": 54,
      "outputs": [
        {
          "output_type": "stream",
          "name": "stdout",
          "text": [
            "Função buscar_mais_musicas_relacionadas criada!\n"
          ]
        }
      ]
    },
    {
      "cell_type": "code",
      "source": [
        "from google.colab import files\n",
        "\n",
        "def exportar_resultados(resultados_principais, resultados_musicas_refinadas, resultados_playlists_refinadas, resultados_artistas_refinados):\n",
        "    \"\"\"Exporta os resultados principais e refinados para um arquivo TXT.\"\"\"\n",
        "    nome_arquivo = \"vt_music_suggestions.txt\"\n",
        "\n",
        "    with open(nome_arquivo, 'w') as f:\n",
        "        f.write(\"--- Análise do Gemini ---\\n\")\n",
        "        if 'generos_sugeridos_gemini' in resultados_principais:\n",
        "            f.write(f\"Gêneros Sugeridos: {', '.join(resultados_principais['generos_sugeridos_gemini'])}\\n\")\n",
        "        f.write(\"\\n--- Sugestões do Spotify (Músicas Originais) ---\\n\")\n",
        "        if 'sugestoes_spotify_musicas' in resultados_principais:\n",
        "            for musica in resultados_principais['sugestoes_spotify_musicas']:\n",
        "                f.write(f\"Artista: {musica['artista']}\\n\")\n",
        "                f.write(f\"Título: {musica['titulo']}\\n\")\n",
        "                f.write(f\"Álbum: {musica['album']}\\n\")\n",
        "                f.write(f\"Link: {musica['url']}\\n\\n\")\n",
        "        f.write(\"\\n--- Sugestões do Spotify (Playlists Originais) ---\\n\")\n",
        "        if 'sugestoes_spotify_playlists' in resultados_principais:\n",
        "            for playlist in resultados_principais['sugestoes_spotify_playlists']:\n",
        "                f.write(f\"Nome: {playlist['nome']}\\n\")\n",
        "                f.write(f\"Proprietário: {playlist['proprietario']}\\n\")\n",
        "                f.write(f\"Link: {playlist['url']}\\n\\n\")\n",
        "\n",
        "        if resultados_musicas_refinadas:\n",
        "            f.write(\"\\n--- Sugestões Adicionais de Músicas (Refinamento) ---\\n\")\n",
        "            for musica in resultados_musicas_refinadas:\n",
        "                f.write(f\"Artista: {musica['artista']}\\n\")\n",
        "                f.write(f\"Título: {musica['titulo']}\\n\")\n",
        "                f.write(f\"Álbum: {musica['album']}\\n\")\n",
        "                f.write(f\"Link: {musica['url']}\\n\\n\")\n",
        "\n",
        "        if resultados_playlists_refinadas:\n",
        "            f.write(\"\\n--- Sugestões Adicionais de Playlists (Refinamento) ---\\n\")\n",
        "            for playlist in resultados_playlists_refinadas:\n",
        "                f.write(f\"Nome: {playlist['nome']}\\n\")\n",
        "                f.write(f\"Proprietário: {playlist['proprietario']}\\n\")\n",
        "                f.write(f\"Link: {playlist['url']}\\n\\n\")\n",
        "\n",
        "        if resultados_artistas_refinados:\n",
        "            f.write(\"\\n--- Artistas Relacionados (Refinamento) ---\\n\")\n",
        "            for artista in resultados_artistas_refinados:\n",
        "                f.write(f\"Nome: {artista['nome']}\\n\")\n",
        "                f.write(f\"Link: {artista['url']}\\n\\n\")\n",
        "\n",
        "    files.download(nome_arquivo)\n",
        "    print(f\"Resultados exportados para '{nome_arquivo}'\")"
      ],
      "metadata": {
        "id": "zdv9gyu2zGRc"
      },
      "execution_count": 55,
      "outputs": []
    },
    {
      "cell_type": "code",
      "source": [
        "def formatar_resultado_com_playlists(resultado):\n",
        "    \"\"\"Formata o resultado da análise para exibição.\"\"\"\n",
        "    output = \"## Análise do Gemini:\\n\\n\"\n",
        "    if resultado['generos_sugeridos_gemini']:\n",
        "        output += \"* \" + \"\\n* \".join(resultado['generos_sugeridos_gemini']) + \"\\n\\n\"\n",
        "    else:\n",
        "        output += \"Nenhum gênero sugerido.\\n\\n\"\n",
        "\n",
        "    output += \"## Sugestões de Músicas do Spotify:\\n\\n\"\n",
        "    if resultado['sugestoes_spotify_musicas']:\n",
        "        for musica in resultado['sugestoes_spotify_musicas']:\n",
        "            output += f\"* **Artista:** {musica['artista']}\\n\"\n",
        "            output += f\"* **Título:** {musica['titulo']}\\n\"\n",
        "            output += f\"* **Álbum:** {musica['album']}\\n\"\n",
        "            output += f\"* **Link:** {musica['url']}\\n\\n\"\n",
        "    else:\n",
        "        output += \"Nenhuma música encontrada para os gêneros sugeridos.\\n\\n\"\n",
        "\n",
        "    output += \"## Sugestões de Playlists do Spotify:\\n\\n\"\n",
        "    if resultado['sugestoes_spotify_playlists']:\n",
        "        for playlist in resultado['sugestoes_spotify_playlists']:\n",
        "            output += f\"* **Nome:** {playlist['nome']}  \\n\"\n",
        "            output += f\"* **Proprietário:** {playlist['proprietario']}\\n\"\n",
        "            output += f\"* **Link:** {playlist['url']}\\n\\n\"\n",
        "    else:\n",
        "        output += \"Nenhuma playlist encontrada para os gêneros sugeridos.\\n\\n\"\n",
        "\n",
        "    return output\n",
        "\n",
        "print(\"Função principal de análise e formatação criada!\")"
      ],
      "metadata": {
        "colab": {
          "base_uri": "https://localhost:8080/"
        },
        "id": "2TbYtb5xde5Q",
        "outputId": "7fa977b2-2ac2-433a-d1a1-c4bd77ae1785"
      },
      "execution_count": 59,
      "outputs": [
        {
          "output_type": "stream",
          "name": "stdout",
          "text": [
            "Função principal de análise e formatação criada!\n"
          ]
        }
      ]
    },
    {
      "cell_type": "code",
      "source": [
        "#@title Insira a descrição do seu vídeo aqui:\n",
        "descricao_do_vt = \"Um vídeo de skate com manobras radicais em diferentes cenários urbanos. Câmera lenta em alguns momentos para destacar os truques. A trilha sonora deve ser enérgica, com batidas fortes e um ritmo que impulsione a ação\" #@param {type:\"string\"}\n",
        "\n",
        "resultados_musicas_refinadas = []\n",
        "resultados_playlists_refinadas = []\n",
        "resultados_artistas_refinados = []\n",
        "\n",
        "def refinar_busca(genero):\n",
        "    global offset_musicas\n",
        "    global offset_artistas\n",
        "    global resultados_musicas_refinadas\n",
        "    global resultados_playlists_refinadas\n",
        "    global resultados_artistas_refinados\n",
        "    offset_musicas = 0\n",
        "    offset_artistas = 0\n",
        "    while True:\n",
        "        print(f\"\\nOpções para refinar a busca no gênero '{genero}':\")\n",
        "        print(\"1. Buscar mais músicas relacionadas\")\n",
        "        print(\"2. Buscar mais playlists relacionadas\")\n",
        "        print(\"3. Buscar mais artistas relacionados\")\n",
        "        print(\"4. Voltar ao menu principal\")\n",
        "        opcao = input(\"Digite o número da opção desejada: \")\n",
        "        if opcao == '1':\n",
        "            resultados = buscar_mais_musicas_relacionadas(genero, sp, offset=offset_musicas)\n",
        "            if resultados:\n",
        "                print(\"\\nSugestões adicionais de músicas relacionadas:\")\n",
        "                for sugestao in resultados:\n",
        "                    print(f\"* Artista: {sugestao['artista']}, Título: {sugestao['titulo']}\")\n",
        "                    resultados_musicas_refinadas.append(sugestao) # Adiciona aos resultados refinados\n",
        "                input(\"\\nPressione Enter para ver mais músicas relacionadas...\")\n",
        "            else:\n",
        "                print(\"Nenhuma sugestão adicional de música relacionada encontrada.\")\n",
        "        elif opcao == '2':\n",
        "            resultados = buscar_mais_playlists(genero, sp)\n",
        "            if resultados:\n",
        "                print(\"\\nSugestões adicionais de playlists relacionadas:\")\n",
        "                for sugestao in resultados:\n",
        "                    print(f\"* Nome: {sugestao['nome']}, Proprietário: {sugestao['proprietario']}\")\n",
        "                    resultados_playlists_refinadas.append(sugestao) # Adiciona aos resultados refinados\n",
        "                input(\"\\nPressione Enter para ver mais playlists relacionadas...\")\n",
        "            else:\n",
        "                print(\"Nenhuma sugestão adicional de playlist relacionada encontrada.\")\n",
        "        elif opcao == '3':\n",
        "            artistas = buscar_artistas_relacionados(genero, sp, offset=offset_artistas)\n",
        "            if artistas:\n",
        "                print(\"\\nArtistas relacionados:\")\n",
        "                for artista in artistas:\n",
        "                    print(f\"* Nome: {artista['nome']}\")\n",
        "                    resultados_artistas_refinados.append(artista) # Adiciona aos resultados refinados\n",
        "                input(\"\\nPressione Enter para ver mais artistas relacionados...\")\n",
        "            else:\n",
        "                print(\"Nenhum artista relacionado adicional encontrado.\")\n",
        "        elif opcao == '4':\n",
        "            break\n",
        "        else:\n",
        "            print(\"Opção inválida. Por favor, digite um número de 1 a 4.\")\n",
        "\n",
        "if descricao_do_vt:\n",
        "    resultados_principais = analisar_vt_e_sugerir_musica_com_spotify_e_playlists(descricao_do_vt)\n",
        "    print(formatar_resultado_com_playlists(resultados_principais))\n",
        "\n",
        "    while True:\n",
        "        print(\"\\nOpções:\")\n",
        "        print(\"1. Refinar busca por gênero\")\n",
        "        print(\"2. Sair e exportar resultados (TXT)\")\n",
        "        opcao_principal = input(\"Digite o número da opção desejada: \")\n",
        "\n",
        "        if opcao_principal == '1':\n",
        "            generos_sugeridos = resultados_principais['generos_sugeridos_gemini']\n",
        "            if generos_sugeridos:\n",
        "                print(\"\\nVocê gostaria de refinar a busca por algum destes gêneros?\")\n",
        "                for i, genero in enumerate(generos_sugeridos):\n",
        "                    print(f\"{i+1}. {genero}\")\n",
        "                genero_escolhido_index = input(\"Digite o número do gênero para refinar (ou pressione Enter para continuar): \")\n",
        "                if genero_escolhido_index.isdigit() and 1 <= int(genero_escolhido_index) <= len(generos_sugeridos):\n",
        "                    genero_refinado = generos_sugeridos[int(genero_escolhido_index) - 1]\n",
        "                    refinar_busca(genero_refinado)\n",
        "                else:\n",
        "                    print(\"\\nNenhuma refinação de gênero selecionada.\")\n",
        "            else:\n",
        "                print(\"Nenhum gênero sugerido para refinar.\")\n",
        "        elif opcao_principal == '2':\n",
        "            exportar_resultados(resultados_principais, resultados_musicas_refinadas, resultados_playlists_refinadas, resultados_artistas_refinados)\n",
        "            print(\"Saindo e exportando os resultados.\")\n",
        "            break\n",
        "        else:\n",
        "            print(\"Opção inválida. Por favor, digite 1 ou 2.\")\n",
        "\n",
        "else:\n",
        "    print(\"Por favor, insira a descrição do vídeo no campo acima.\")"
      ],
      "metadata": {
        "colab": {
          "base_uri": "https://localhost:8080/",
          "height": 1000
        },
        "id": "s9R02Y4T1l6O",
        "outputId": "e6253a8b-8630-4d63-c3d8-75faa624f739"
      },
      "execution_count": null,
      "outputs": [
        {
          "output_type": "stream",
          "name": "stdout",
          "text": [
            "## Análise do Gemini:\n",
            "\n",
            "* Hip Hop\n",
            "* Rock\n",
            "* Eletrônica\n",
            "\n",
            "## Sugestões de Músicas do Spotify:\n",
            "\n",
            "* **Artista:** XXXTENTACION\n",
            "* **Título:** Hope\n",
            "* **Álbum:** ?\n",
            "* **Link:** https://open.spotify.com/track/2ZRo7axmMPeSVUvDbGkJah\n",
            "\n",
            "* **Artista:** NF\n",
            "* **Título:** HOPE\n",
            "* **Álbum:** HOPE\n",
            "* **Link:** https://open.spotify.com/track/0EgLxY52mpGsXETyEsgVlP\n",
            "\n",
            "* **Artista:** Wiz Khalifa\n",
            "* **Título:** Hopeless Romantic (feat. Swae Lee)\n",
            "* **Álbum:** Rolling Papers 2\n",
            "* **Link:** https://open.spotify.com/track/7IBSffWIu7P2MC7kMwy2FM\n",
            "\n",
            "* **Artista:** Arctic Monkeys\n",
            "* **Título:** 505\n",
            "* **Álbum:** Favourite Worst Nightmare (Standard Version)\n",
            "* **Link:** https://open.spotify.com/track/58ge6dfP91o9oXMzq3XkIS\n",
            "\n",
            "* **Artista:** Fleetwood Mac\n",
            "* **Título:** Dreams - 2004 Remaster\n",
            "* **Álbum:** Rumours (Super Deluxe)\n",
            "* **Link:** https://open.spotify.com/track/0ofHAoxe9vBkTCp2UQIavz\n",
            "\n",
            "* **Artista:** The Goo Goo Dolls\n",
            "* **Título:** Iris\n",
            "* **Álbum:** Dizzy up the Girl\n",
            "* **Link:** https://open.spotify.com/track/6Qyc6fS4DsZjB2mRW9DsQs\n",
            "\n",
            "* **Artista:** Gui Brazil\n",
            "* **Título:** Praise\n",
            "* **Álbum:** Praise\n",
            "* **Link:** https://open.spotify.com/track/6j0DDG232N0ZJfGcD32bE3\n",
            "\n",
            "* **Artista:** Gui Brazil\n",
            "* **Título:** Goodness of God - Remix\n",
            "* **Álbum:** Goodness of God (Remix)\n",
            "* **Link:** https://open.spotify.com/track/0u2v7e57souRjQpso1c8vc\n",
            "\n",
            "* **Artista:** Salvador Araguaya\n",
            "* **Título:** Folha de Jurema - Xique-Xique's Dragonfruit Mix\n",
            "* **Álbum:** Folha de Jurema (Remixes)\n",
            "* **Link:** https://open.spotify.com/track/5hye8OHcobZgpFfB9aCAW7\n",
            "\n",
            "## Sugestões de Playlists do Spotify:\n",
            "\n",
            "* **Nome:** Stoned 🍃💨  \n",
            "* **Proprietário:** Vicky\n",
            "* **Link:** https://open.spotify.com/playlist/3TejicIfBAtllqAO6iOUgu\n",
            "\n",
            "* **Nome:** 90s and 2000s Nostalgia  \n",
            "* **Proprietário:** Adam Delphia\n",
            "* **Link:** https://open.spotify.com/playlist/3zWsWgysGjJrsvttSMR3Qk\n",
            "\n",
            "* **Nome:** Best of 70s 80s 90s Greatest Hits  \n",
            "* **Proprietário:** TicklyTim\n",
            "* **Link:** https://open.spotify.com/playlist/6cGR8lJ2VPnaM9ePGPdhHI\n",
            "\n",
            "* **Nome:** Best of 70s 80s Greatest Hits  \n",
            "* **Proprietário:** TicklyTim\n",
            "* **Link:** https://open.spotify.com/playlist/1EWFZL2cPkur5CSeGkTgM7\n",
            "\n",
            "* **Nome:** No Genre    \n",
            "* **Proprietário:** Laurimar Neto\n",
            "* **Link:** https://open.spotify.com/playlist/4ubHT7bRlMqPcO0EMgMVoK\n",
            "\n",
            "* **Nome:** Ghost Striker - Best of 🎵🎶💫😎  \n",
            "* **Proprietário:** Diego Lima\n",
            "* **Link:** https://open.spotify.com/playlist/0xmcq017fZwhgXZeu545Sy\n",
            "\n",
            "\n",
            "\n",
            "Opções:\n",
            "1. Refinar busca por gênero\n",
            "2. Sair e exportar resultados (TXT)\n",
            "Digite o número da opção desejada: 1\n",
            "\n",
            "Você gostaria de refinar a busca por algum destes gêneros?\n",
            "1. Hip Hop\n",
            "2. Rock\n",
            "3. Eletrônica\n",
            "Digite o número do gênero para refinar (ou pressione Enter para continuar): 2\n",
            "\n",
            "Opções para refinar a busca no gênero 'Rock':\n",
            "1. Buscar mais músicas relacionadas\n",
            "2. Buscar mais playlists relacionadas\n",
            "3. Buscar mais artistas relacionados\n",
            "4. Voltar ao menu principal\n",
            "Digite o número da opção desejada: 1\n",
            "\n",
            "Sugestões adicionais de músicas relacionadas:\n",
            "* Artista: Arctic Monkeys, Título: 505\n",
            "* Artista: Fleetwood Mac, Título: Dreams - 2004 Remaster\n",
            "* Artista: The Goo Goo Dolls, Título: Iris\n",
            "* Artista: The Neighbourhood, Título: Sweater Weather\n",
            "* Artista: The Killers, Título: Mr. Brightside\n"
          ]
        }
      ]
    },
    {
      "cell_type": "code",
      "source": [],
      "metadata": {
        "id": "eV7UIMbY1sQ7"
      },
      "execution_count": null,
      "outputs": []
    }
  ]
}